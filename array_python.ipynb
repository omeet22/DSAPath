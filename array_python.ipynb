{
 "cells": [
  {
   "cell_type": "code",
   "execution_count": null,
   "id": "3d5a2656",
   "metadata": {},
   "outputs": [],
   "source": [
    "#All about array\n",
    "#Method\tDescription\n",
    "#append()\tAdds an element at the end of the list\n",
    "#clear()\tRemoves all the elements from the list\n",
    "#copy()\tReturns a copy of the list\n",
    "#count()\tReturns the number of elements with the specified value\n",
    "#extend()\tAdd the elements of a list (or any iterable), to the end of the current list\n",
    "#index()\tReturns the index of the first element with the specified value\n",
    "#insert()\tAdds an element at the specified position\n",
    "#pop()\tRemoves the element at the specified position\n",
    "#remove()\tRemoves the first item with the specified value\n",
    "#reverse()\tReverses the order of the list\n",
    "#sort()\tSorts the list"
   ]
  },
  {
   "cell_type": "code",
   "execution_count": 2,
   "id": "66fe1533",
   "metadata": {},
   "outputs": [
    {
     "name": "stdout",
     "output_type": "stream",
     "text": [
      "['ram', 'shyam', 'hari', 'binita']\n"
     ]
    }
   ],
   "source": [
    "#Adding element i n python\n",
    "\n",
    "#append(value) -> it adds the elements to the end of array.\n",
    "#insert(position, value) -> it insert the element in given index.\n",
    "#extend(value) -> it elongates the list by appending elements from both the lists.\n",
    "\n",
    "#append() function\n",
    "list1=['ram','shyam','hari']\n",
    "list1.append('binita')\n",
    "print(list1)"
   ]
  },
  {
   "cell_type": "code",
   "execution_count": 4,
   "id": "f2fa5609",
   "metadata": {},
   "outputs": [
    {
     "name": "stdout",
     "output_type": "stream",
     "text": [
      "[1, 2, 3, 4, 5, 6]\n"
     ]
    }
   ],
   "source": [
    "#insert() function\n",
    "list2=[1,2,3,4,5]\n",
    "list2.insert(5,6)\n",
    "print(list2)"
   ]
  },
  {
   "cell_type": "code",
   "execution_count": 5,
   "id": "1afdb214",
   "metadata": {},
   "outputs": [
    {
     "name": "stdout",
     "output_type": "stream",
     "text": [
      "[1, 2, 3, 4, 'a', 'b', 'c']\n"
     ]
    }
   ],
   "source": [
    "#extend() function\n",
    "list3=[1,2,3,4]\n",
    "list4=['a','b','c']\n",
    "list3.extend(list4)\n",
    "print(list3)"
   ]
  },
  {
   "cell_type": "code",
   "execution_count": 9,
   "id": "a2cffb5f",
   "metadata": {},
   "outputs": [
    {
     "name": "stdout",
     "output_type": "stream",
     "text": [
      "current number [1, 2, 3, 4, 5]\n",
      "Enter the number to add6\n",
      "enter the index between 0 to 45\n",
      "[1, 2, 3, 4, 5, 6]\n"
     ]
    }
   ],
   "source": [
    "#Adding elements to an array using insert() function\n",
    "list5=[1,2,3,4,5]\n",
    "print(f'current number {list5}')\n",
    "num=int(input('Enter the number to add'))\n",
    "index=int(input(f'enter the index between 0 to {len(list5)-1}'))\n",
    "list5.insert(index, num)\n",
    "print(list5)"
   ]
  },
  {
   "cell_type": "code",
   "execution_count": 11,
   "id": "16b2637b",
   "metadata": {},
   "outputs": [
    {
     "name": "stdout",
     "output_type": "stream",
     "text": [
      "array('i', [1, 2, 3, 4])\n",
      "array('i', [5, 6, 7, 8])\n",
      "array('i', [1, 2, 3, 4, 5, 6, 7, 8])\n",
      "array('i', [1, 2, 3, 4, 9])\n",
      "array('i', [10, 5, 6, 7, 8])\n",
      "array('i', [1, 2, 3, 4, 9, 10, 5, 6, 7, 8])\n"
     ]
    }
   ],
   "source": [
    "#Adding to an array using array module\n",
    "import array\n",
    "\n",
    "s1=array.array('i',[1,2,3,4])\n",
    "s2=array.array('i',[5,6,7,8])\n",
    "\n",
    "print(s1)\n",
    "print(s2)\n",
    "\n",
    "s3=s1+s2\n",
    "print(s3)\n",
    "\n",
    "s1.append(9)\n",
    "print(s1)\n",
    "\n",
    "s2.insert(0,10)\n",
    "print(s2)\n",
    "\n",
    "s1.extend(s2)\n",
    "print(s1)\n",
    "\n"
   ]
  },
  {
   "cell_type": "code",
   "execution_count": 12,
   "id": "8e1de50c",
   "metadata": {},
   "outputs": [
    {
     "name": "stdout",
     "output_type": "stream",
     "text": [
      "[ 1 91 23 33]\n",
      "[ 4  2  1 12 13 14]\n"
     ]
    }
   ],
   "source": [
    "#Addition of elements to NumPy array\n",
    "#We can add elements to a NumPy array using the following methods:\n",
    "\n",
    "#By using append() : It adds the elements to the end of the array.\n",
    "#By using insert() : It adds elements at the given index in an array.\n",
    "\n",
    "import numpy\n",
    " # insert function\n",
    "arr1_insert = numpy.array([1, 23, 33])\n",
    "  \n",
    "arr2_insert = numpy.insert(arr1_insert, 1, 91)\n",
    "  \n",
    "print(arr2_insert)\n",
    "# append function\n",
    "arr1_append = numpy.array([4, 2, 1])\n",
    "  \n",
    "arr2_append = numpy.append (arr1_append, [12, 13, 14])\n",
    "  \n",
    "print(arr2_append)"
   ]
  },
  {
   "cell_type": "code",
   "execution_count": null,
   "id": "59ce1cec",
   "metadata": {},
   "outputs": [],
   "source": []
  }
 ],
 "metadata": {
  "kernelspec": {
   "display_name": "Python 3 (ipykernel)",
   "language": "python",
   "name": "python3"
  },
  "language_info": {
   "codemirror_mode": {
    "name": "ipython",
    "version": 3
   },
   "file_extension": ".py",
   "mimetype": "text/x-python",
   "name": "python",
   "nbconvert_exporter": "python",
   "pygments_lexer": "ipython3",
   "version": "3.9.7"
  }
 },
 "nbformat": 4,
 "nbformat_minor": 5
}
